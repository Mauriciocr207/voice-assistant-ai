{
  "nbformat": 4,
  "nbformat_minor": 0,
  "metadata": {
    "colab": {
      "provenance": [],
      "authorship_tag": "ABX9TyOqIN95fC/uNvOSEKGs3+0u",
      "include_colab_link": true
    },
    "kernelspec": {
      "name": "python3",
      "display_name": "Python 3"
    },
    "language_info": {
      "name": "python"
    }
  },
  "cells": [
    {
      "cell_type": "markdown",
      "metadata": {
        "id": "view-in-github",
        "colab_type": "text"
      },
      "source": [
        "<a href=\"https://colab.research.google.com/github/Mauriciocr207/voice-assistant-ai/blob/main/colab/voice_assistant_ai.ipynb\" target=\"_parent\"><img src=\"https://colab.research.google.com/assets/colab-badge.svg\" alt=\"Open In Colab\"/></a>"
      ]
    },
    {
      "cell_type": "markdown",
      "source": [
        "# Visualización de Embeddings en 2D y 3D de BETO\n",
        "## Modelo\n",
        "Utilizaremos el modelo `dccuchile/bert-base-spanish-wwm-cased` BETO para obtener sus embeddings y visualizarlos"
      ],
      "metadata": {
        "id": "NEUatiHRoH6g"
      }
    },
    {
      "cell_type": "code",
      "source": [
        "from transformers import AutoTokenizer, AutoModel\n",
        "import torch\n",
        "from sklearn.decomposition import PCA\n",
        "import plotly.express as px\n",
        "import pandas as pd\n",
        "\n",
        "# Cargar BETO y tokenizer\n",
        "model_name = \"dccuchile/bert-base-spanish-wwm-cased\"\n",
        "tokenizer = AutoTokenizer.from_pretrained(model_name)\n",
        "model = AutoModel.from_pretrained(model_name)\n",
        "\n",
        "# Cargar palabras desde el archivo CSV\n",
        "csv_path = \"./words.csv\"\n",
        "df_words = pd.read_csv(csv_path)\n",
        "words = df_words[\"word\"].tolist()\n",
        "\n",
        "# Obtener embeddings de cada palabra\n",
        "def get_word_embeddings(words):\n",
        "    embeddings = []\n",
        "    for word in words:\n",
        "        inputs = tokenizer(word, return_tensors=\"pt\")\n",
        "        with torch.no_grad():\n",
        "            outputs = model(**inputs)\n",
        "        # Extraer el embedding de la primera capa oculta del token [CLS] o el promedio de todos los tokens\n",
        "        embedding = outputs.last_hidden_state.mean(dim=1).squeeze().numpy()\n",
        "        embeddings.append(embedding)\n",
        "    return embeddings\n",
        "\n",
        "embeddings = get_word_embeddings(words)\n",
        "\n",
        "# Reducir dimensionalidad a 3D\n",
        "pca = PCA(n_components=3)\n",
        "reduced_embeddings = pca.fit_transform(embeddings)\n",
        "\n",
        "# Crear un DataFrame para Plotly\n",
        "df_embeddings = pd.DataFrame(reduced_embeddings, columns=[\"PC1\", \"PC2\", \"PC3\"])\n",
        "df_embeddings[\"word\"] = words\n",
        "\n",
        "# Visualizar en 3D interactivo con Plotly\n",
        "fig = px.scatter_3d(\n",
        "    df_embeddings,\n",
        "    x=\"PC1\",\n",
        "    y=\"PC2\",\n",
        "    z=\"PC3\",\n",
        "    text=\"word\",\n",
        "    title=\"Embeddings de palabras en 3D (PCA)\",\n",
        "    labels={\"PC1\": \"x\", \"PC2\": \"y\", \"PC3\": \"y\"}\n",
        ")\n",
        "\n",
        "# Ajustar el diseño para parecer más un plano tridimensional\n",
        "fig.update_layout(\n",
        "    scene=dict(xaxis_showspikes=False,\n",
        "               yaxis_showspikes=False)\n",
        ")\n",
        "\n",
        "# Mostrar el gráfico interactivo\n",
        "fig.show()\n"
      ],
      "metadata": {
        "colab": {
          "base_uri": "https://localhost:8080/",
          "height": 597
        },
        "id": "WKTOd8HnopNx",
        "outputId": "14b84c4f-401b-4f70-839d-322d16b2e2b2"
      },
      "execution_count": 18,
      "outputs": [
        {
          "output_type": "stream",
          "name": "stderr",
          "text": [
            "Some weights of BertModel were not initialized from the model checkpoint at dccuchile/bert-base-spanish-wwm-cased and are newly initialized: ['pooler.dense.bias', 'pooler.dense.weight']\n",
            "You should probably TRAIN this model on a down-stream task to be able to use it for predictions and inference.\n"
          ]
        },
        {
          "output_type": "display_data",
          "data": {
            "text/html": [
              "<html>\n",
              "<head><meta charset=\"utf-8\" /></head>\n",
              "<body>\n",
              "    <div>            <script src=\"https://cdnjs.cloudflare.com/ajax/libs/mathjax/2.7.5/MathJax.js?config=TeX-AMS-MML_SVG\"></script><script type=\"text/javascript\">if (window.MathJax && window.MathJax.Hub && window.MathJax.Hub.Config) {window.MathJax.Hub.Config({SVG: {font: \"STIX-Web\"}});}</script>                <script type=\"text/javascript\">window.PlotlyConfig = {MathJaxConfig: 'local'};</script>\n",
              "        <script charset=\"utf-8\" src=\"https://cdn.plot.ly/plotly-2.35.2.min.js\"></script>                <div id=\"b81c3f08-e71f-4bbd-bd43-1a878161a7f8\" class=\"plotly-graph-div\" style=\"height:525px; width:100%;\"></div>            <script type=\"text/javascript\">                                    window.PLOTLYENV=window.PLOTLYENV || {};                                    if (document.getElementById(\"b81c3f08-e71f-4bbd-bd43-1a878161a7f8\")) {                    Plotly.newPlot(                        \"b81c3f08-e71f-4bbd-bd43-1a878161a7f8\",                        [{\"hovertemplate\":\"x=%{x}\\u003cbr\\u003ey=%{z}\\u003cbr\\u003eword=%{text}\\u003cextra\\u003e\\u003c\\u002fextra\\u003e\",\"legendgroup\":\"\",\"marker\":{\"color\":\"#636efa\",\"symbol\":\"circle\"},\"mode\":\"markers+text\",\"name\":\"\",\"scene\":\"scene\",\"showlegend\":false,\"text\":[\"algoritmo\",\"inteligencia\",\"software\",\"hardware\",\"computación\",\"montaña\",\"río\",\"bosque\",\"océano\",\"desierto\",\"felicidad\",\"tristeza\",\"ira\",\"miedo\",\"sorpresa\",\"álgebra\",\"geometría\",\"cálculo\",\"vector\",\"matriz\",\"física\",\"química\",\"biología\",\"astronomía\",\"genética\",\"innovación\",\"robot\",\"redes\",\"programación\",\"datos\",\"selva\",\"catarata\",\"volcán\",\"nieve\",\"playa\",\"amor\",\"esperanza\",\"pasión\",\"calma\",\"orgullo\",\"integral\",\"ecuación\",\"derivada\",\"teorema\",\"probabilidad\",\"molécula\",\"átomo\",\"evolución\",\"microbiología\",\"universo\"],\"x\":[0.606945395761157,-1.260582255778701,1.7637706775244324,1.451346181458883,3.778283099168889,-3.609589430702168,-4.184885142408882,-3.6004262307497674,-3.794313137226041,-3.249499691268617,-1.7323637678626167,-2.307592791842435,-1.8280997193769375,-2.317809698053983,-2.304729718474604,6.117106619802059,1.2429430613626846,9.141132132194342,4.810062521915372,0.5753910688129957,2.2778364414722696,1.4705541985313508,-1.1951198721580987,3.5344535442298706,0.0867325465614094,1.0989366591359537,-2.201000933578343,0.4331473169275108,-0.28554079255060577,1.352953551669688,-3.6898863986524693,1.3624202638822134,-3.846640458575817,-3.567526873314123,-3.463827138706429,-2.3097501429984297,-3.0486512729718704,-2.106997303249088,-0.017027460211601494,-2.074778850499269,0.7122802996616127,1.9317040256010471,1.4430360809507266,3.941742948288351,0.34716894845971336,3.523980926699243,1.1020451522905572,0.6168613895242571,5.000413850224056,-1.7266098208997358],\"y\":[2.6222987049155173,0.18853208266020255,-2.9665818255641168,-3.799946526536013,-2.2026958542598893,1.1876708641970584,0.9556066762398524,0.6651918185975227,1.07897666552112,2.056534472539679,-0.5850643147637655,-0.49332134659819354,0.32656018796233766,-0.8732724121060362,0.03127161010267471,-1.3298544987305667,1.1136712967805513,5.904718771622679,1.65174610779644,3.3873296127962824,-0.3275877137832759,-1.1259855941630597,0.308751701650833,-4.881882607853966,-0.3163611662870553,-0.10960625804621839,1.1182816120016321,-1.9117773950823778,0.43360731673266645,1.565634529056834,0.17630585314411087,-3.693332758005251,0.7167044626035415,1.7647810186989932,-1.3507086991892094,-2.1049857216596894,-0.45459555893134496,-1.6510045686186272,-2.899410137728778,-0.42500214030469635,2.046272354655606,4.812736371030116,2.916612719524065,3.6382821558656024,-0.193396594554523,-0.7845848980125633,-0.17659709587899794,-0.1711491753595382,-5.476317575752823,-0.363056528925339],\"z\":[0.11812929079770121,-0.12324487513888008,-0.49437859683848095,-0.4554085955766935,-2.8764054326260067,-2.198075456329771,-0.2588577294722747,-1.3931071977895935,-1.3371851935906,-1.3015096581330068,3.58422289258634,2.26175336856966,1.2280565585238958,2.374893331215922,1.5924547631018713,0.13894761350907298,-2.774120968404698,2.3917130626796927,2.186028625135511,0.054150260969451955,-1.6321778741885125,-2.6185907755987947,-3.5427602918017667,-0.9305098758082948,-3.0141380187741267,-2.132649198453111,-0.9573078306973489,-0.818550685850579,-2.545866532733713,-2.1781752015296756,-0.5205331178306395,1.6158952637085193,-0.4693032829284935,-2.0096068817697375,-0.8933393822463047,4.2542589094355785,1.943575616752728,3.9208344315677968,1.8674800038345922,3.6684119614356545,-0.4594117087697652,0.4806409376491935,-0.219501630861056,2.097441675108701,1.1319738988048005,2.066510319863792,1.230960335757252,-0.7931128681614432,-1.818903905933644,0.5583996468292814],\"type\":\"scatter3d\"}],                        {\"template\":{\"data\":{\"histogram2dcontour\":[{\"type\":\"histogram2dcontour\",\"colorbar\":{\"outlinewidth\":0,\"ticks\":\"\"},\"colorscale\":[[0.0,\"#0d0887\"],[0.1111111111111111,\"#46039f\"],[0.2222222222222222,\"#7201a8\"],[0.3333333333333333,\"#9c179e\"],[0.4444444444444444,\"#bd3786\"],[0.5555555555555556,\"#d8576b\"],[0.6666666666666666,\"#ed7953\"],[0.7777777777777778,\"#fb9f3a\"],[0.8888888888888888,\"#fdca26\"],[1.0,\"#f0f921\"]]}],\"choropleth\":[{\"type\":\"choropleth\",\"colorbar\":{\"outlinewidth\":0,\"ticks\":\"\"}}],\"histogram2d\":[{\"type\":\"histogram2d\",\"colorbar\":{\"outlinewidth\":0,\"ticks\":\"\"},\"colorscale\":[[0.0,\"#0d0887\"],[0.1111111111111111,\"#46039f\"],[0.2222222222222222,\"#7201a8\"],[0.3333333333333333,\"#9c179e\"],[0.4444444444444444,\"#bd3786\"],[0.5555555555555556,\"#d8576b\"],[0.6666666666666666,\"#ed7953\"],[0.7777777777777778,\"#fb9f3a\"],[0.8888888888888888,\"#fdca26\"],[1.0,\"#f0f921\"]]}],\"heatmap\":[{\"type\":\"heatmap\",\"colorbar\":{\"outlinewidth\":0,\"ticks\":\"\"},\"colorscale\":[[0.0,\"#0d0887\"],[0.1111111111111111,\"#46039f\"],[0.2222222222222222,\"#7201a8\"],[0.3333333333333333,\"#9c179e\"],[0.4444444444444444,\"#bd3786\"],[0.5555555555555556,\"#d8576b\"],[0.6666666666666666,\"#ed7953\"],[0.7777777777777778,\"#fb9f3a\"],[0.8888888888888888,\"#fdca26\"],[1.0,\"#f0f921\"]]}],\"heatmapgl\":[{\"type\":\"heatmapgl\",\"colorbar\":{\"outlinewidth\":0,\"ticks\":\"\"},\"colorscale\":[[0.0,\"#0d0887\"],[0.1111111111111111,\"#46039f\"],[0.2222222222222222,\"#7201a8\"],[0.3333333333333333,\"#9c179e\"],[0.4444444444444444,\"#bd3786\"],[0.5555555555555556,\"#d8576b\"],[0.6666666666666666,\"#ed7953\"],[0.7777777777777778,\"#fb9f3a\"],[0.8888888888888888,\"#fdca26\"],[1.0,\"#f0f921\"]]}],\"contourcarpet\":[{\"type\":\"contourcarpet\",\"colorbar\":{\"outlinewidth\":0,\"ticks\":\"\"}}],\"contour\":[{\"type\":\"contour\",\"colorbar\":{\"outlinewidth\":0,\"ticks\":\"\"},\"colorscale\":[[0.0,\"#0d0887\"],[0.1111111111111111,\"#46039f\"],[0.2222222222222222,\"#7201a8\"],[0.3333333333333333,\"#9c179e\"],[0.4444444444444444,\"#bd3786\"],[0.5555555555555556,\"#d8576b\"],[0.6666666666666666,\"#ed7953\"],[0.7777777777777778,\"#fb9f3a\"],[0.8888888888888888,\"#fdca26\"],[1.0,\"#f0f921\"]]}],\"surface\":[{\"type\":\"surface\",\"colorbar\":{\"outlinewidth\":0,\"ticks\":\"\"},\"colorscale\":[[0.0,\"#0d0887\"],[0.1111111111111111,\"#46039f\"],[0.2222222222222222,\"#7201a8\"],[0.3333333333333333,\"#9c179e\"],[0.4444444444444444,\"#bd3786\"],[0.5555555555555556,\"#d8576b\"],[0.6666666666666666,\"#ed7953\"],[0.7777777777777778,\"#fb9f3a\"],[0.8888888888888888,\"#fdca26\"],[1.0,\"#f0f921\"]]}],\"mesh3d\":[{\"type\":\"mesh3d\",\"colorbar\":{\"outlinewidth\":0,\"ticks\":\"\"}}],\"scatter\":[{\"fillpattern\":{\"fillmode\":\"overlay\",\"size\":10,\"solidity\":0.2},\"type\":\"scatter\"}],\"parcoords\":[{\"type\":\"parcoords\",\"line\":{\"colorbar\":{\"outlinewidth\":0,\"ticks\":\"\"}}}],\"scatterpolargl\":[{\"type\":\"scatterpolargl\",\"marker\":{\"colorbar\":{\"outlinewidth\":0,\"ticks\":\"\"}}}],\"bar\":[{\"error_x\":{\"color\":\"#2a3f5f\"},\"error_y\":{\"color\":\"#2a3f5f\"},\"marker\":{\"line\":{\"color\":\"#E5ECF6\",\"width\":0.5},\"pattern\":{\"fillmode\":\"overlay\",\"size\":10,\"solidity\":0.2}},\"type\":\"bar\"}],\"scattergeo\":[{\"type\":\"scattergeo\",\"marker\":{\"colorbar\":{\"outlinewidth\":0,\"ticks\":\"\"}}}],\"scatterpolar\":[{\"type\":\"scatterpolar\",\"marker\":{\"colorbar\":{\"outlinewidth\":0,\"ticks\":\"\"}}}],\"histogram\":[{\"marker\":{\"pattern\":{\"fillmode\":\"overlay\",\"size\":10,\"solidity\":0.2}},\"type\":\"histogram\"}],\"scattergl\":[{\"type\":\"scattergl\",\"marker\":{\"colorbar\":{\"outlinewidth\":0,\"ticks\":\"\"}}}],\"scatter3d\":[{\"type\":\"scatter3d\",\"line\":{\"colorbar\":{\"outlinewidth\":0,\"ticks\":\"\"}},\"marker\":{\"colorbar\":{\"outlinewidth\":0,\"ticks\":\"\"}}}],\"scattermapbox\":[{\"type\":\"scattermapbox\",\"marker\":{\"colorbar\":{\"outlinewidth\":0,\"ticks\":\"\"}}}],\"scatterternary\":[{\"type\":\"scatterternary\",\"marker\":{\"colorbar\":{\"outlinewidth\":0,\"ticks\":\"\"}}}],\"scattercarpet\":[{\"type\":\"scattercarpet\",\"marker\":{\"colorbar\":{\"outlinewidth\":0,\"ticks\":\"\"}}}],\"carpet\":[{\"aaxis\":{\"endlinecolor\":\"#2a3f5f\",\"gridcolor\":\"white\",\"linecolor\":\"white\",\"minorgridcolor\":\"white\",\"startlinecolor\":\"#2a3f5f\"},\"baxis\":{\"endlinecolor\":\"#2a3f5f\",\"gridcolor\":\"white\",\"linecolor\":\"white\",\"minorgridcolor\":\"white\",\"startlinecolor\":\"#2a3f5f\"},\"type\":\"carpet\"}],\"table\":[{\"cells\":{\"fill\":{\"color\":\"#EBF0F8\"},\"line\":{\"color\":\"white\"}},\"header\":{\"fill\":{\"color\":\"#C8D4E3\"},\"line\":{\"color\":\"white\"}},\"type\":\"table\"}],\"barpolar\":[{\"marker\":{\"line\":{\"color\":\"#E5ECF6\",\"width\":0.5},\"pattern\":{\"fillmode\":\"overlay\",\"size\":10,\"solidity\":0.2}},\"type\":\"barpolar\"}],\"pie\":[{\"automargin\":true,\"type\":\"pie\"}]},\"layout\":{\"autotypenumbers\":\"strict\",\"colorway\":[\"#636efa\",\"#EF553B\",\"#00cc96\",\"#ab63fa\",\"#FFA15A\",\"#19d3f3\",\"#FF6692\",\"#B6E880\",\"#FF97FF\",\"#FECB52\"],\"font\":{\"color\":\"#2a3f5f\"},\"hovermode\":\"closest\",\"hoverlabel\":{\"align\":\"left\"},\"paper_bgcolor\":\"white\",\"plot_bgcolor\":\"#E5ECF6\",\"polar\":{\"bgcolor\":\"#E5ECF6\",\"angularaxis\":{\"gridcolor\":\"white\",\"linecolor\":\"white\",\"ticks\":\"\"},\"radialaxis\":{\"gridcolor\":\"white\",\"linecolor\":\"white\",\"ticks\":\"\"}},\"ternary\":{\"bgcolor\":\"#E5ECF6\",\"aaxis\":{\"gridcolor\":\"white\",\"linecolor\":\"white\",\"ticks\":\"\"},\"baxis\":{\"gridcolor\":\"white\",\"linecolor\":\"white\",\"ticks\":\"\"},\"caxis\":{\"gridcolor\":\"white\",\"linecolor\":\"white\",\"ticks\":\"\"}},\"coloraxis\":{\"colorbar\":{\"outlinewidth\":0,\"ticks\":\"\"}},\"colorscale\":{\"sequential\":[[0.0,\"#0d0887\"],[0.1111111111111111,\"#46039f\"],[0.2222222222222222,\"#7201a8\"],[0.3333333333333333,\"#9c179e\"],[0.4444444444444444,\"#bd3786\"],[0.5555555555555556,\"#d8576b\"],[0.6666666666666666,\"#ed7953\"],[0.7777777777777778,\"#fb9f3a\"],[0.8888888888888888,\"#fdca26\"],[1.0,\"#f0f921\"]],\"sequentialminus\":[[0.0,\"#0d0887\"],[0.1111111111111111,\"#46039f\"],[0.2222222222222222,\"#7201a8\"],[0.3333333333333333,\"#9c179e\"],[0.4444444444444444,\"#bd3786\"],[0.5555555555555556,\"#d8576b\"],[0.6666666666666666,\"#ed7953\"],[0.7777777777777778,\"#fb9f3a\"],[0.8888888888888888,\"#fdca26\"],[1.0,\"#f0f921\"]],\"diverging\":[[0,\"#8e0152\"],[0.1,\"#c51b7d\"],[0.2,\"#de77ae\"],[0.3,\"#f1b6da\"],[0.4,\"#fde0ef\"],[0.5,\"#f7f7f7\"],[0.6,\"#e6f5d0\"],[0.7,\"#b8e186\"],[0.8,\"#7fbc41\"],[0.9,\"#4d9221\"],[1,\"#276419\"]]},\"xaxis\":{\"gridcolor\":\"white\",\"linecolor\":\"white\",\"ticks\":\"\",\"title\":{\"standoff\":15},\"zerolinecolor\":\"white\",\"automargin\":true,\"zerolinewidth\":2},\"yaxis\":{\"gridcolor\":\"white\",\"linecolor\":\"white\",\"ticks\":\"\",\"title\":{\"standoff\":15},\"zerolinecolor\":\"white\",\"automargin\":true,\"zerolinewidth\":2},\"scene\":{\"xaxis\":{\"backgroundcolor\":\"#E5ECF6\",\"gridcolor\":\"white\",\"linecolor\":\"white\",\"showbackground\":true,\"ticks\":\"\",\"zerolinecolor\":\"white\",\"gridwidth\":2},\"yaxis\":{\"backgroundcolor\":\"#E5ECF6\",\"gridcolor\":\"white\",\"linecolor\":\"white\",\"showbackground\":true,\"ticks\":\"\",\"zerolinecolor\":\"white\",\"gridwidth\":2},\"zaxis\":{\"backgroundcolor\":\"#E5ECF6\",\"gridcolor\":\"white\",\"linecolor\":\"white\",\"showbackground\":true,\"ticks\":\"\",\"zerolinecolor\":\"white\",\"gridwidth\":2}},\"shapedefaults\":{\"line\":{\"color\":\"#2a3f5f\"}},\"annotationdefaults\":{\"arrowcolor\":\"#2a3f5f\",\"arrowhead\":0,\"arrowwidth\":1},\"geo\":{\"bgcolor\":\"white\",\"landcolor\":\"#E5ECF6\",\"subunitcolor\":\"white\",\"showland\":true,\"showlakes\":true,\"lakecolor\":\"white\"},\"title\":{\"x\":0.05},\"mapbox\":{\"style\":\"light\"}}},\"scene\":{\"domain\":{\"x\":[0.0,1.0],\"y\":[0.0,1.0]},\"xaxis\":{\"title\":{\"text\":\"x\"},\"showspikes\":false},\"yaxis\":{\"title\":{\"text\":\"y\"},\"showspikes\":false},\"zaxis\":{\"title\":{\"text\":\"y\"}}},\"legend\":{\"tracegroupgap\":0},\"title\":{\"text\":\"Embeddings de palabras en 3D (PCA)\"}},                        {\"responsive\": true}                    ).then(function(){\n",
              "                            \n",
              "var gd = document.getElementById('b81c3f08-e71f-4bbd-bd43-1a878161a7f8');\n",
              "var x = new MutationObserver(function (mutations, observer) {{\n",
              "        var display = window.getComputedStyle(gd).display;\n",
              "        if (!display || display === 'none') {{\n",
              "            console.log([gd, 'removed!']);\n",
              "            Plotly.purge(gd);\n",
              "            observer.disconnect();\n",
              "        }}\n",
              "}});\n",
              "\n",
              "// Listen for the removal of the full notebook cells\n",
              "var notebookContainer = gd.closest('#notebook-container');\n",
              "if (notebookContainer) {{\n",
              "    x.observe(notebookContainer, {childList: true});\n",
              "}}\n",
              "\n",
              "// Listen for the clearing of the current output cell\n",
              "var outputEl = gd.closest('.output');\n",
              "if (outputEl) {{\n",
              "    x.observe(outputEl, {childList: true});\n",
              "}}\n",
              "\n",
              "                        })                };                            </script>        </div>\n",
              "</body>\n",
              "</html>"
            ]
          },
          "metadata": {}
        }
      ]
    },
    {
      "cell_type": "code",
      "source": [],
      "metadata": {
        "id": "95lUDosMotei"
      },
      "execution_count": null,
      "outputs": []
    }
  ]
}